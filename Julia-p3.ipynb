{
 "cells": [
  {
   "cell_type": "code",
   "execution_count": 49,
   "id": "04a23820",
   "metadata": {},
   "outputs": [],
   "source": [
    "begin\n",
    "\tusing Colors, ColorVectorSpace, ImageShow, FileIO, ImageIO\n",
    "\tusing PlutoUI\n",
    "\tusing HypertextLiteral\n",
    "\tusing LinearAlgebra\n",
    "\tusing ForwardDiff\n",
    "\tusing LinearAlgebra\n",
    "\tusing NonlinearSolve\n",
    "\tusing StaticArrays\n",
    "    using Symbolics, Plots, LaTeXStrings\n",
    "\tusing ForwardDiff: jacobian\n",
    "    using Interact\n",
    "\t\n",
    "\n",
    "\tBase.showable(::MIME\"text/html\", ::AbstractMatrix{<:Colorant}) = false\n",
    "end"
   ]
  },
  {
   "cell_type": "code",
   "execution_count": 2,
   "id": "1276756c-0639-47e2-99a7-ad17ed507342",
   "metadata": {},
   "outputs": [],
   "source": [
    "using CSV,DataFrames\n"
   ]
  },
  {
   "cell_type": "code",
   "execution_count": 10,
   "id": "f40b1864-042d-4211-987d-61f3a5962dc2",
   "metadata": {},
   "outputs": [
    {
     "data": {
      "text/plain": [
       "f₁ (generic function with 1 method)"
      ]
     },
     "execution_count": 10,
     "metadata": {},
     "output_type": "execute_result"
    }
   ],
   "source": [
    "f₁(x) = x^2"
   ]
  },
  {
   "cell_type": "code",
   "execution_count": 11,
   "id": "7806b224-2275-4d33-9fdb-bd3055dc1310",
   "metadata": {},
   "outputs": [
    {
     "data": {
      "text/plain": [
       "10"
      ]
     },
     "execution_count": 11,
     "metadata": {},
     "output_type": "execute_result"
    }
   ],
   "source": [
    "ForwardDiff.derivative(f₁, 5)"
   ]
  },
  {
   "cell_type": "code",
   "execution_count": 7,
   "id": "5226c3e2-4c29-4f9c-b6db-6a32d243f346",
   "metadata": {},
   "outputs": [
    {
     "data": {
      "text/plain": [
       "f₅ (generic function with 2 methods)"
      ]
     },
     "execution_count": 7,
     "metadata": {},
     "output_type": "execute_result"
    }
   ],
   "source": [
    "begin\n",
    "\tf₅(v) = 5sin(v[1]*v[2]) + 2*v[2]/4v[3]\n",
    "\tf₅(x,y,z) = 5sin(x*y) + 2*y/4z\n",
    "end"
   ]
  },
  {
   "cell_type": "code",
   "execution_count": 8,
   "id": "25e87d59-03d2-4ea9-a895-d267c791c6fd",
   "metadata": {},
   "outputs": [
    {
     "data": {
      "text/plain": [
       "3-element Vector{Float64}:\n",
       " -4.161468365471424\n",
       " -1.9140675160690452\n",
       " -0.1111111111111111"
      ]
     },
     "execution_count": 8,
     "metadata": {},
     "output_type": "execute_result"
    }
   ],
   "source": [
    "ForwardDiff.gradient(f₅,[1,2,3])"
   ]
  },
  {
   "cell_type": "code",
   "execution_count": 4,
   "id": "cf70c3a7-ba65-4175-84fe-eb17aa5fb156",
   "metadata": {},
   "outputs": [
    {
     "data": {
      "text/plain": [
       "genlin (generic function with 1 method)"
      ]
     },
     "execution_count": 4,
     "metadata": {},
     "output_type": "execute_result"
    }
   ],
   "source": [
    "begin\n",
    "\t idy((x,y)) = [x,y]\n",
    "\t lin1((x,y)) =  [ 2x + 3y, -5x+4x ]\n",
    "\t scalex(α) = ((x,y),) -> (α*x, y)\n",
    "\t scaley(α) = ((x,y),) -> (x,   α*y)\n",
    "\t rot(θ) = ((x,y),) -> [cos(θ)*x + sin(θ)*y, -sin(θ)*x + cos(θ)*y]\n",
    "\t shear(α) = ((x,y),) -> [x+α*y,y]\n",
    "\t genlin(a,b,c,d) = ((x,y),) -> [ a*x + b*y ; c*x + d*y ]\n",
    "end"
   ]
  },
  {
   "cell_type": "code",
   "execution_count": 12,
   "id": "1d4b3497-6a54-44df-9d82-aa1575e1b0e5",
   "metadata": {},
   "outputs": [
    {
     "data": {
      "text/plain": [
       "#4 (generic function with 1 method)"
      ]
     },
     "execution_count": 12,
     "metadata": {},
     "output_type": "execute_result"
    }
   ],
   "source": [
    "# T⁻¹ = id\n",
    "#  T⁻¹ = rotate(α)\n",
    "T⁻¹ = shear(1)\n",
    "#   T⁻¹ = lin(A) # uses the scrubbable \n",
    "#   T⁻¹ = shear(α) ∘ shear(-α)\n",
    " # T⁻¹ = nonlin_shear(α)  \n",
    " #   T⁻¹ =   inverse(nonlin_shear(α))\n",
    "#    T⁻¹ =  nonlin_shear(-α)\n",
    "#  T⁻¹ =  xy \n",
    "# T⁻¹ = warp(α)\n",
    "# T⁻¹ = ((x,y),)-> (x+α*y^2,y+α*x^2) # may be non-invertible\n",
    "\n",
    "# T⁻¹ = ((x,y),)-> (x,y^2)  \n",
    "# T⁻¹  = flipy ∘ ((x,y),) ->  ( (β*x - α*y)/(β - y)  , -h*y/ (β - y)   )"
   ]
  },
  {
   "cell_type": "code",
   "execution_count": 13,
   "id": "1183fa08-2696-4e35-9f9a-ea069045174e",
   "metadata": {},
   "outputs": [
    {
     "data": {
      "text/plain": [
       "xy (generic function with 1 method)"
      ]
     },
     "execution_count": 13,
     "metadata": {},
     "output_type": "execute_result"
    }
   ],
   "source": [
    "begin\n",
    "\tfunction warp(α)\n",
    "\t\t((x,y),)  -> begin\n",
    "\t\t\tr = √(x^2+y^2)\n",
    "\t\t\tθ=α*r\n",
    "\t\t\trot(θ)([x,y])\n",
    "\t\tend\n",
    "\tend\n",
    "\t\n",
    "\trθ(x) = ( norm(x), atan(x[2],x[1])) # maybe vectors are more readable here?\n",
    "\t\n",
    "\txy((r,θ)) = ( r*cos(θ), r*sin(θ))\n",
    "end"
   ]
  },
  {
   "cell_type": "code",
   "execution_count": 16,
   "id": "0f79a42c-b266-4ad8-a572-11c9ca156b91",
   "metadata": {},
   "outputs": [
    {
     "data": {
      "text/plain": [
       "2-element Vector{Float64}:\n",
       " 4.569521661655642\n",
       " 4.4854734180083895"
      ]
     },
     "execution_count": 16,
     "metadata": {},
     "output_type": "execute_result"
    }
   ],
   "source": [
    "warp(1)([4,5])"
   ]
  },
  {
   "cell_type": "code",
   "execution_count": 17,
   "id": "e0c741ea-8d3a-4be5-84ed-9ead245d8b4e",
   "metadata": {},
   "outputs": [
    {
     "data": {
      "text/plain": [
       "warp₂ (generic function with 2 methods)"
      ]
     },
     "execution_count": 17,
     "metadata": {},
     "output_type": "execute_result"
    }
   ],
   "source": [
    "begin\t\n",
    "\twarp₂(α,x,y) = rot(α*√(x^2+y^2))\n",
    "\twarp₂(α) = ((x,y),) -> warp₂(α,x,y)([x,y])\t\n",
    "end"
   ]
  },
  {
   "cell_type": "code",
   "execution_count": 18,
   "id": "7f19afef-f310-4ca8-8896-9cf054400238",
   "metadata": {},
   "outputs": [
    {
     "data": {
      "text/plain": [
       "2×2 Matrix{Float64}:\n",
       "   7.06684    8.0157\n",
       " -10.6677   -11.9586"
      ]
     },
     "execution_count": 18,
     "metadata": {},
     "output_type": "execute_result"
    }
   ],
   "source": [
    "ForwardDiff.jacobian( warp(3.0), [4,5] )"
   ]
  },
  {
   "cell_type": "code",
   "execution_count": 25,
   "id": "fb82dc68-3d05-48d1-9d42-845edb206c12",
   "metadata": {},
   "outputs": [
    {
     "data": {
      "text/plain": [
       "shear (generic function with 1 method)"
      ]
     },
     "execution_count": 25,
     "metadata": {},
     "output_type": "execute_result"
    }
   ],
   "source": [
    "#線形変換全部\n",
    "begin\n",
    "\t id((x, y)) = SA[x, y]\n",
    "\t\n",
    "\t scalex(α) = ((x, y),) -> SA[α*x,  y]\n",
    "\t scaley(α) = ((x, y),) -> SA[x,   α*y]\n",
    "\t scale(α)  = ((x, y),) -> SA[α*x, α*y]\n",
    "\t\n",
    "\t swap((x, y))  = SA[y, x]\n",
    "\t flipy((x, y)) = SA[x, -y]\n",
    "\t\n",
    "\t rotate(θ) = ((x, y),) -> SA[cos(θ)*x + sin(θ)*y, -sin(θ)*x + cos(θ)*y]\n",
    "\t shear(α)  = ((x, y),) -> SA[x + α*y, y]\n",
    "end"
   ]
  },
  {
   "cell_type": "code",
   "execution_count": 26,
   "id": "afd74964-81e4-40c3-a40c-0608e92dad56",
   "metadata": {},
   "outputs": [
    {
     "data": {
      "text/plain": [
       "lin (generic function with 2 methods)"
      ]
     },
     "execution_count": 26,
     "metadata": {},
     "output_type": "execute_result"
    }
   ],
   "source": [
    "begin\n",
    "\tlin(a, b, c, d) = ((x, y),) -> (a*x + b*y, c*x + d*y)\n",
    "\t\n",
    "\tlin(A) = v-> A * [v...]  # linear algebra version using matrix multiplication\n",
    "end"
   ]
  },
  {
   "cell_type": "code",
   "execution_count": 27,
   "id": "4eb5808c-8a0c-42a0-b38e-2896cecd1bd7",
   "metadata": {},
   "outputs": [
    {
     "data": {
      "text/plain": [
       "rθ (generic function with 1 method)"
      ]
     },
     "execution_count": 27,
     "metadata": {},
     "output_type": "execute_result"
    }
   ],
   "source": [
    "begin\n",
    "  translate(α,β)  = ((x, y),) -> SA[x+α, y+β]   # affine, but not linear\n",
    "\t\n",
    "  nonlin_shear(α) = ((x, y),) -> SA[x, y + α*x^2]\n",
    "\t\n",
    "  warp(α)    = ((x, y),) -> rotate(α*√(x^2+y^2))(SA[x, y])\n",
    "  xy((r, θ)) = SA[ r*cos(θ), r*sin(θ) ]\n",
    "  rθ(x)      = SA[norm(x), atan(x[2],x[1]) ] \n",
    "  \n",
    "  # exponentialish =  ((x,y),) -> [log(x+1.2), log(y+1.2)]\n",
    "  # merc = ((x,y),) ->  [ log(x^2+y^2)/2 , atan(y,x) ] # (reim(log(complex(y,x)) ))\n",
    "end"
   ]
  },
  {
   "cell_type": "code",
   "execution_count": 23,
   "id": "e30a46f6-620a-41e4-9e4f-8ac4a61869f9",
   "metadata": {},
   "outputs": [
    {
     "data": {
      "text/plain": [
       "transform_ij_to_xy (generic function with 1 method)"
      ]
     },
     "execution_count": 23,
     "metadata": {},
     "output_type": "execute_result"
    }
   ],
   "source": [
    "begin\n",
    "\tfunction transform_xy_to_ij(img::AbstractMatrix, x::Float64, y::Float64)\n",
    "\t# convert coordinate system xy to ij \n",
    "\t# center image, and use \"white\" when out of the boundary\n",
    "\t\t\n",
    "\t\trows, cols = size(img)\n",
    "\t\tm = max(cols, rows)\t\n",
    "\t\t\n",
    "\t    # function to take xy to ij\n",
    "\t\txy_to_ij =  translate(rows/2, cols/2) ∘ swap ∘ flipy ∘ scale(m/2)\n",
    "\t\t\n",
    "\t\t# apply the function and \"snap to grid\"\n",
    "\t\ti, j = floor.(Int, xy_to_ij((x, y))) \n",
    "\t\n",
    "\tend\n",
    "\t\n",
    "\tfunction getpixel(img,i::Int,j::Int; circular::Bool=false, r::Real=200)   \n",
    "\t\t#  grab image color or place default\n",
    "\t\trows, cols = size(img)\n",
    "\t\tm = max(cols,rows)\n",
    "\t\tif circular\n",
    "\t\t\tc = (i-rows/2)^2 + (j-cols/2)^2 ≤ r*m^2/4\n",
    "\t\telse\n",
    "\t\t\tc = true\n",
    "\t\tend\n",
    "\t\t\n",
    "\t\tif 1 < i ≤ rows && 1 < j ≤ cols && c\n",
    "\t\t\timg[i, j]\n",
    "\t\telse\n",
    "\t\t\t# white(img[1, 1])\n",
    "\t\t\tblack(img[1,1])\n",
    "\t\tend\n",
    "\t\t\n",
    "\tend\n",
    "\t\n",
    "\t\n",
    "\t# function getpixel(img,x::Float64,y::Float64)\n",
    "\t# \ti,j = transform_xy_to_ij(img,x,y)\n",
    "\t# \tgetpixel(img,i,j)\n",
    "\t# end\n",
    "\t\n",
    "\tfunction transform_ij_to_xy(i::Int,j::Int,pixels)\n",
    "\t\n",
    "\t   ij_to_xy =  scale(2/pixels) ∘ flipy ∘ swap ∘ translate(-pixels/2,-pixels/2)\n",
    "\t   ij_to_xy([i,j])\n",
    "\tend\n",
    "\n",
    "\t    \n",
    "end"
   ]
  },
  {
   "cell_type": "code",
   "execution_count": 33,
   "id": "c469f870-2285-43fa-ad6a-0591cd1b25d5",
   "metadata": {},
   "outputs": [],
   "source": [
    "img = load(download(\"https://user-images.githubusercontent.com/6933510/110868198-713faa80-82c8-11eb-8264-d69df4509f49.png\"));"
   ]
  },
  {
   "cell_type": "code",
   "execution_count": 66,
   "id": "e7d40389-3208-4ebd-8686-da652c8a1e87",
   "metadata": {},
   "outputs": [
    {
     "ename": "LoadError",
     "evalue": "TypeError: non-boolean (Float64) used in boolean context",
     "output_type": "error",
     "traceback": [
      "TypeError: non-boolean (Float64) used in boolean context",
      "",
      "Stacktrace:",
      " [1] #79",
      "   @ ./In[66]:10 [inlined]",
      " [2] (::var\"#79#80\")(::Tuple{Int64, Int64})",
      "   @ Main ./none:0",
      " [3] iterate",
      "   @ ./generator.jl:47 [inlined]",
      " [4] collect(itr::Base.Generator{Base.Iterators.ProductIterator{Tuple{UnitRange{Int64}, UnitRange{Int64}}}, var\"#79#80\"})",
      "   @ Base ./array.jl:724",
      " [5] top-level scope",
      "   @ In[66]:2",
      " [6] eval",
      "   @ ./boot.jl:373 [inlined]",
      " [7] include_string(mapexpr::typeof(REPL.softscope), mod::Module, code::String, filename::String)",
      "   @ Base ./loading.jl:1196"
     ]
    }
   ],
   "source": [
    "begin\n",
    "\t\t[\t\t\t    \n",
    "\t\t\tbegin\n",
    "\t\t\t\n",
    "\t\t\t x, y = transform_ij_to_xy(i,j, 500)\n",
    "\t\t\t\n",
    "\t\t\tX, Y = ( translate(-0.0,-0.0)  )([x,y])\n",
    "\t\t\t X, Y = ( T⁻¹∘scale(1/15)∘translate(-0.0,-0.0) )([x,y])\n",
    "\t\t\t i, j = transform_xy_to_ij(img,X,Y)\n",
    "\t\t\t getpixel(img,i,j; circular=6.0, r=7.0)\n",
    "\t\t\tend\t \n",
    "\t\t\n",
    "\t\t\tfor i = 1:500, j = 1:500\n",
    "\t\t]\t\n",
    "end"
   ]
  },
  {
   "cell_type": "code",
   "execution_count": 65,
   "id": "54948536-7081-49bb-9f8d-dd4fe78d7520",
   "metadata": {},
   "outputs": [
    {
     "data": {
      "text/plain": [
       "2-element SVector{2, Int64} with indices SOneTo(2):\n",
       " 321\n",
       " 480"
      ]
     },
     "execution_count": 65,
     "metadata": {},
     "output_type": "execute_result"
    }
   ],
   "source": [
    "transform_xy_to_ij(img,0.0,0.0)"
   ]
  },
  {
   "cell_type": "code",
   "execution_count": 51,
   "id": "38bf7d41-e37b-489e-857e-0c4bb9cd37d8",
   "metadata": {},
   "outputs": [
    {
     "data": {
      "text/plain": [
       "standard_Newton (generic function with 3 methods)"
      ]
     },
     "execution_count": 51,
     "metadata": {},
     "output_type": "execute_result"
    }
   ],
   "source": [
    "function standard_Newton(f, n, x_range, x0, ymin=-10, ymax=10)\n",
    "    \n",
    "    f′ = x -> ForwardDiff.derivative(f, x)\n",
    "\n",
    "\n",
    "\tp = plot(f, x_range, lw=3, ylim=(ymin, ymax), legend=:false, size=(400, 300))\n",
    "\n",
    "\thline!([0.0], c=\"magenta\", lw=3, ls=:dash)\n",
    "\tscatter!([x0], [0], c=\"green\", ann=(x0, -5, L\"x_0\", 10))\n",
    "\n",
    "\tfor i in 1:n\n",
    "\n",
    "\t\tplot!([x0, x0], [0, f(x0)], c=:gray, alpha=0.5)\n",
    "\t\tscatter!([x0], [f(x0)], c=:red)\n",
    "\t\tm = f′(x0)\n",
    "\n",
    "\t\tplot!(x_range, [straight(x0, f(x0), x, m) for x in x_range], \n",
    "\t\t\t  c=:blue, alpha=0.5, ls=:dash, lw=2)\n",
    "\n",
    "\t\tx1 = x0 - f(x0) / m\n",
    "\n",
    "\t\tscatter!([x1], [0], c=\"green\", ann=(x1, -5, L\"x_%$i\", 10))\n",
    "\t\t\n",
    "\t\tx0 = x1\n",
    "\n",
    "\tend\n",
    "\n",
    "\tp |> as_svg\n",
    "\n",
    "\n",
    "end"
   ]
  },
  {
   "cell_type": "code",
   "execution_count": 63,
   "id": "2a7882aa-321a-4269-ae68-7be62a0d1c56",
   "metadata": {},
   "outputs": [
    {
     "ename": "LoadError",
     "evalue": "UndefVarError: straight not defined",
     "output_type": "error",
     "traceback": [
      "UndefVarError: straight not defined",
      "",
      "Stacktrace:",
      " [1] (::var\"#69#71\"{var\"#f#76\", Int64})(x::Float64)",
      "   @ Main ./none:0",
      " [2] iterate",
      "   @ ./generator.jl:47 [inlined]",
      " [3] collect(itr::Base.Generator{StepRangeLen{Float64, Base.TwicePrecision{Float64}, Base.TwicePrecision{Float64}, Int64}, var\"#69#71\"{var\"#f#76\", Int64}})",
      "   @ Base ./array.jl:724",
      " [4] standard_Newton(f::var\"#f#76\", n::Int64, x_range::StepRangeLen{Float64, Base.TwicePrecision{Float64}, Base.TwicePrecision{Float64}, Int64}, x0::Int64, ymin::Int64, ymax::Int64)",
      "   @ Main ./In[51]:17",
      " [5] top-level scope",
      "   @ In[63]:4",
      " [6] eval",
      "   @ ./boot.jl:373 [inlined]",
      " [7] include_string(mapexpr::typeof(REPL.softscope), mod::Module, code::String, filename::String)",
      "   @ Base ./loading.jl:1196"
     ]
    }
   ],
   "source": [
    "let\n",
    "\tf(x) = x^2 - 2\n",
    "\n",
    "\tstandard_Newton(f, 2, -1:0.01:10,2, -10, 70)\n",
    "end"
   ]
  },
  {
   "cell_type": "code",
   "execution_count": 13,
   "id": "fc9dfca8-8604-4eb4-86f8-d60afaa2809e",
   "metadata": {},
   "outputs": [
    {
     "name": "stderr",
     "output_type": "stream",
     "text": [
      "┌ Warning: thread = 1 warning: only found 1 / 3 columns around data row: 1. Filling remaining columns with `missing`\n",
      "└ @ CSV /Users/aaaa/.julia/packages/CSV/1P1tQ/src/file.jl:576\n",
      "┌ Warning: thread = 1 warning: only found 1 / 3 columns around data row: 2. Filling remaining columns with `missing`\n",
      "└ @ CSV /Users/aaaa/.julia/packages/CSV/1P1tQ/src/file.jl:576\n",
      "┌ Warning: thread = 1 warning: only found 1 / 3 columns around data row: 3. Filling remaining columns with `missing`\n",
      "└ @ CSV /Users/aaaa/.julia/packages/CSV/1P1tQ/src/file.jl:576\n",
      "┌ Warning: thread = 1 warning: only found 1 / 3 columns around data row: 4. Filling remaining columns with `missing`\n",
      "└ @ CSV /Users/aaaa/.julia/packages/CSV/1P1tQ/src/file.jl:576\n",
      "┌ Warning: thread = 1 warning: only found 1 / 3 columns around data row: 5. Filling remaining columns with `missing`\n",
      "└ @ CSV /Users/aaaa/.julia/packages/CSV/1P1tQ/src/file.jl:576\n",
      "┌ Warning: thread = 1 warning: only found 1 / 3 columns around data row: 6. Filling remaining columns with `missing`\n",
      "└ @ CSV /Users/aaaa/.julia/packages/CSV/1P1tQ/src/file.jl:576\n",
      "┌ Warning: thread = 1 warning: only found 1 / 3 columns around data row: 7. Filling remaining columns with `missing`\n",
      "└ @ CSV /Users/aaaa/.julia/packages/CSV/1P1tQ/src/file.jl:576\n",
      "┌ Warning: thread = 1 warning: only found 1 / 3 columns around data row: 8. Filling remaining columns with `missing`\n",
      "└ @ CSV /Users/aaaa/.julia/packages/CSV/1P1tQ/src/file.jl:576\n",
      "┌ Warning: thread = 1 warning: only found 1 / 3 columns around data row: 9. Filling remaining columns with `missing`\n",
      "└ @ CSV /Users/aaaa/.julia/packages/CSV/1P1tQ/src/file.jl:576\n",
      "┌ Warning: thread = 1 warning: only found 1 / 3 columns around data row: 10. Filling remaining columns with `missing`\n",
      "└ @ CSV /Users/aaaa/.julia/packages/CSV/1P1tQ/src/file.jl:576\n",
      "┌ Warning: thread = 1 warning: only found 1 / 3 columns around data row: 11. Filling remaining columns with `missing`\n",
      "└ @ CSV /Users/aaaa/.julia/packages/CSV/1P1tQ/src/file.jl:576\n",
      "┌ Warning: thread = 1 warning: only found 1 / 3 columns around data row: 12. Filling remaining columns with `missing`\n",
      "└ @ CSV /Users/aaaa/.julia/packages/CSV/1P1tQ/src/file.jl:576\n",
      "┌ Warning: thread = 1 warning: only found 1 / 3 columns around data row: 13. Filling remaining columns with `missing`\n",
      "└ @ CSV /Users/aaaa/.julia/packages/CSV/1P1tQ/src/file.jl:576\n",
      "┌ Warning: thread = 1 warning: only found 1 / 3 columns around data row: 14. Filling remaining columns with `missing`\n",
      "└ @ CSV /Users/aaaa/.julia/packages/CSV/1P1tQ/src/file.jl:576\n",
      "┌ Warning: thread = 1 warning: only found 1 / 3 columns around data row: 15. Filling remaining columns with `missing`\n",
      "└ @ CSV /Users/aaaa/.julia/packages/CSV/1P1tQ/src/file.jl:576\n",
      "┌ Warning: thread = 1 warning: only found 1 / 3 columns around data row: 16. Filling remaining columns with `missing`\n",
      "└ @ CSV /Users/aaaa/.julia/packages/CSV/1P1tQ/src/file.jl:576\n",
      "┌ Warning: thread = 1 warning: only found 1 / 3 columns around data row: 17. Filling remaining columns with `missing`\n",
      "└ @ CSV /Users/aaaa/.julia/packages/CSV/1P1tQ/src/file.jl:576\n",
      "┌ Warning: thread = 1 warning: only found 1 / 3 columns around data row: 18. Filling remaining columns with `missing`\n",
      "└ @ CSV /Users/aaaa/.julia/packages/CSV/1P1tQ/src/file.jl:576\n",
      "┌ Warning: thread = 1 warning: only found 1 / 3 columns around data row: 19. Filling remaining columns with `missing`\n",
      "└ @ CSV /Users/aaaa/.julia/packages/CSV/1P1tQ/src/file.jl:576\n",
      "┌ Warning: thread = 1 warning: only found 1 / 3 columns around data row: 20. Filling remaining columns with `missing`\n",
      "└ @ CSV /Users/aaaa/.julia/packages/CSV/1P1tQ/src/file.jl:576\n",
      "┌ Warning: thread = 1 warning: only found 1 / 3 columns around data row: 21. Filling remaining columns with `missing`\n",
      "└ @ CSV /Users/aaaa/.julia/packages/CSV/1P1tQ/src/file.jl:576\n",
      "┌ Warning: thread = 1 warning: only found 1 / 3 columns around data row: 22. Filling remaining columns with `missing`\n",
      "└ @ CSV /Users/aaaa/.julia/packages/CSV/1P1tQ/src/file.jl:576\n",
      "┌ Warning: thread = 1 warning: only found 1 / 3 columns around data row: 23. Filling remaining columns with `missing`\n",
      "└ @ CSV /Users/aaaa/.julia/packages/CSV/1P1tQ/src/file.jl:576\n",
      "┌ Warning: thread = 1 warning: only found 1 / 3 columns around data row: 24. Filling remaining columns with `missing`\n",
      "└ @ CSV /Users/aaaa/.julia/packages/CSV/1P1tQ/src/file.jl:576\n",
      "┌ Warning: thread = 1 warning: only found 1 / 3 columns around data row: 25. Filling remaining columns with `missing`\n",
      "└ @ CSV /Users/aaaa/.julia/packages/CSV/1P1tQ/src/file.jl:576\n",
      "┌ Warning: thread = 1 warning: only found 1 / 3 columns around data row: 26. Filling remaining columns with `missing`\n",
      "└ @ CSV /Users/aaaa/.julia/packages/CSV/1P1tQ/src/file.jl:576\n",
      "┌ Warning: thread = 1 warning: only found 1 / 3 columns around data row: 27. Filling remaining columns with `missing`\n",
      "└ @ CSV /Users/aaaa/.julia/packages/CSV/1P1tQ/src/file.jl:576\n",
      "┌ Warning: thread = 1 warning: only found 1 / 3 columns around data row: 28. Filling remaining columns with `missing`\n",
      "└ @ CSV /Users/aaaa/.julia/packages/CSV/1P1tQ/src/file.jl:576\n",
      "┌ Warning: thread = 1 warning: only found 1 / 3 columns around data row: 29. Filling remaining columns with `missing`\n",
      "└ @ CSV /Users/aaaa/.julia/packages/CSV/1P1tQ/src/file.jl:576\n",
      "┌ Warning: thread = 1 warning: only found 1 / 3 columns around data row: 30. Filling remaining columns with `missing`\n",
      "└ @ CSV /Users/aaaa/.julia/packages/CSV/1P1tQ/src/file.jl:576\n",
      "┌ Warning: thread = 1 warning: only found 1 / 3 columns around data row: 31. Filling remaining columns with `missing`\n",
      "└ @ CSV /Users/aaaa/.julia/packages/CSV/1P1tQ/src/file.jl:576\n",
      "┌ Warning: thread = 1 warning: only found 1 / 3 columns around data row: 32. Filling remaining columns with `missing`\n",
      "└ @ CSV /Users/aaaa/.julia/packages/CSV/1P1tQ/src/file.jl:576\n",
      "┌ Warning: thread = 1 warning: only found 1 / 3 columns around data row: 33. Filling remaining columns with `missing`\n",
      "└ @ CSV /Users/aaaa/.julia/packages/CSV/1P1tQ/src/file.jl:576\n",
      "┌ Warning: thread = 1 warning: only found 1 / 3 columns around data row: 34. Filling remaining columns with `missing`\n",
      "└ @ CSV /Users/aaaa/.julia/packages/CSV/1P1tQ/src/file.jl:576\n",
      "┌ Warning: thread = 1 warning: only found 1 / 3 columns around data row: 35. Filling remaining columns with `missing`\n",
      "└ @ CSV /Users/aaaa/.julia/packages/CSV/1P1tQ/src/file.jl:576\n",
      "┌ Warning: thread = 1 warning: only found 1 / 3 columns around data row: 36. Filling remaining columns with `missing`\n",
      "└ @ CSV /Users/aaaa/.julia/packages/CSV/1P1tQ/src/file.jl:576\n",
      "┌ Warning: thread = 1 warning: only found 1 / 3 columns around data row: 37. Filling remaining columns with `missing`\n",
      "└ @ CSV /Users/aaaa/.julia/packages/CSV/1P1tQ/src/file.jl:576\n",
      "┌ Warning: thread = 1 warning: only found 1 / 3 columns around data row: 38. Filling remaining columns with `missing`\n",
      "└ @ CSV /Users/aaaa/.julia/packages/CSV/1P1tQ/src/file.jl:576\n",
      "┌ Warning: thread = 1 warning: only found 1 / 3 columns around data row: 39. Filling remaining columns with `missing`\n",
      "└ @ CSV /Users/aaaa/.julia/packages/CSV/1P1tQ/src/file.jl:576\n",
      "┌ Warning: thread = 1 warning: only found 1 / 3 columns around data row: 40. Filling remaining columns with `missing`\n",
      "└ @ CSV /Users/aaaa/.julia/packages/CSV/1P1tQ/src/file.jl:576\n",
      "┌ Warning: thread = 1 warning: only found 1 / 3 columns around data row: 41. Filling remaining columns with `missing`\n",
      "└ @ CSV /Users/aaaa/.julia/packages/CSV/1P1tQ/src/file.jl:576\n",
      "┌ Warning: thread = 1 warning: only found 1 / 3 columns around data row: 42. Filling remaining columns with `missing`\n",
      "└ @ CSV /Users/aaaa/.julia/packages/CSV/1P1tQ/src/file.jl:576\n",
      "┌ Warning: thread = 1 warning: only found 1 / 3 columns around data row: 43. Filling remaining columns with `missing`\n",
      "└ @ CSV /Users/aaaa/.julia/packages/CSV/1P1tQ/src/file.jl:576\n",
      "┌ Warning: thread = 1 warning: only found 1 / 3 columns around data row: 44. Filling remaining columns with `missing`\n",
      "└ @ CSV /Users/aaaa/.julia/packages/CSV/1P1tQ/src/file.jl:576\n",
      "┌ Warning: thread = 1 warning: only found 1 / 3 columns around data row: 45. Filling remaining columns with `missing`\n",
      "└ @ CSV /Users/aaaa/.julia/packages/CSV/1P1tQ/src/file.jl:576\n",
      "┌ Warning: thread = 1 warning: only found 1 / 3 columns around data row: 46. Filling remaining columns with `missing`\n",
      "└ @ CSV /Users/aaaa/.julia/packages/CSV/1P1tQ/src/file.jl:576\n",
      "┌ Warning: thread = 1 warning: only found 1 / 3 columns around data row: 47. Filling remaining columns with `missing`\n",
      "└ @ CSV /Users/aaaa/.julia/packages/CSV/1P1tQ/src/file.jl:576\n",
      "┌ Warning: thread = 1 warning: only found 1 / 3 columns around data row: 48. Filling remaining columns with `missing`\n",
      "└ @ CSV /Users/aaaa/.julia/packages/CSV/1P1tQ/src/file.jl:576\n",
      "┌ Warning: thread = 1 warning: only found 1 / 3 columns around data row: 49. Filling remaining columns with `missing`\n",
      "└ @ CSV /Users/aaaa/.julia/packages/CSV/1P1tQ/src/file.jl:576\n",
      "┌ Warning: thread = 1 warning: only found 1 / 3 columns around data row: 50. Filling remaining columns with `missing`\n",
      "└ @ CSV /Users/aaaa/.julia/packages/CSV/1P1tQ/src/file.jl:576\n",
      "┌ Warning: thread = 1 warning: only found 1 / 3 columns around data row: 51. Filling remaining columns with `missing`\n",
      "└ @ CSV /Users/aaaa/.julia/packages/CSV/1P1tQ/src/file.jl:576\n",
      "┌ Warning: thread = 1 warning: only found 1 / 3 columns around data row: 52. Filling remaining columns with `missing`\n",
      "└ @ CSV /Users/aaaa/.julia/packages/CSV/1P1tQ/src/file.jl:576\n",
      "┌ Warning: thread = 1 warning: only found 1 / 3 columns around data row: 53. Filling remaining columns with `missing`\n",
      "└ @ CSV /Users/aaaa/.julia/packages/CSV/1P1tQ/src/file.jl:576\n",
      "┌ Warning: thread = 1 warning: only found 1 / 3 columns around data row: 54. Filling remaining columns with `missing`\n",
      "└ @ CSV /Users/aaaa/.julia/packages/CSV/1P1tQ/src/file.jl:576\n",
      "┌ Warning: thread = 1 warning: only found 1 / 3 columns around data row: 55. Filling remaining columns with `missing`\n",
      "└ @ CSV /Users/aaaa/.julia/packages/CSV/1P1tQ/src/file.jl:576\n",
      "┌ Warning: thread = 1 warning: only found 1 / 3 columns around data row: 56. Filling remaining columns with `missing`\n",
      "└ @ CSV /Users/aaaa/.julia/packages/CSV/1P1tQ/src/file.jl:576\n",
      "┌ Warning: thread = 1 warning: only found 1 / 3 columns around data row: 57. Filling remaining columns with `missing`\n",
      "└ @ CSV /Users/aaaa/.julia/packages/CSV/1P1tQ/src/file.jl:576\n",
      "┌ Warning: thread = 1 warning: only found 1 / 3 columns around data row: 58. Filling remaining columns with `missing`\n",
      "└ @ CSV /Users/aaaa/.julia/packages/CSV/1P1tQ/src/file.jl:576\n",
      "┌ Warning: thread = 1 warning: only found 1 / 3 columns around data row: 59. Filling remaining columns with `missing`\n",
      "└ @ CSV /Users/aaaa/.julia/packages/CSV/1P1tQ/src/file.jl:576\n",
      "┌ Warning: thread = 1 warning: only found 1 / 3 columns around data row: 60. Filling remaining columns with `missing`\n",
      "└ @ CSV /Users/aaaa/.julia/packages/CSV/1P1tQ/src/file.jl:576\n",
      "┌ Warning: thread = 1 warning: only found 1 / 3 columns around data row: 61. Filling remaining columns with `missing`\n",
      "└ @ CSV /Users/aaaa/.julia/packages/CSV/1P1tQ/src/file.jl:576\n",
      "┌ Warning: thread = 1 warning: only found 1 / 3 columns around data row: 62. Filling remaining columns with `missing`\n",
      "└ @ CSV /Users/aaaa/.julia/packages/CSV/1P1tQ/src/file.jl:576\n",
      "┌ Warning: thread = 1 warning: only found 1 / 3 columns around data row: 63. Filling remaining columns with `missing`\n",
      "└ @ CSV /Users/aaaa/.julia/packages/CSV/1P1tQ/src/file.jl:576\n",
      "┌ Warning: thread = 1 warning: only found 1 / 3 columns around data row: 64. Filling remaining columns with `missing`\n",
      "└ @ CSV /Users/aaaa/.julia/packages/CSV/1P1tQ/src/file.jl:576\n",
      "┌ Warning: thread = 1 warning: only found 1 / 3 columns around data row: 65. Filling remaining columns with `missing`\n",
      "└ @ CSV /Users/aaaa/.julia/packages/CSV/1P1tQ/src/file.jl:576\n",
      "┌ Warning: thread = 1 warning: only found 1 / 3 columns around data row: 66. Filling remaining columns with `missing`\n",
      "└ @ CSV /Users/aaaa/.julia/packages/CSV/1P1tQ/src/file.jl:576\n",
      "┌ Warning: thread = 1 warning: only found 1 / 3 columns around data row: 67. Filling remaining columns with `missing`\n",
      "└ @ CSV /Users/aaaa/.julia/packages/CSV/1P1tQ/src/file.jl:576\n",
      "┌ Warning: thread = 1 warning: only found 1 / 3 columns around data row: 68. Filling remaining columns with `missing`\n",
      "└ @ CSV /Users/aaaa/.julia/packages/CSV/1P1tQ/src/file.jl:576\n",
      "┌ Warning: thread = 1 warning: only found 1 / 3 columns around data row: 69. Filling remaining columns with `missing`\n",
      "└ @ CSV /Users/aaaa/.julia/packages/CSV/1P1tQ/src/file.jl:576\n",
      "┌ Warning: thread = 1 warning: only found 1 / 3 columns around data row: 70. Filling remaining columns with `missing`\n",
      "└ @ CSV /Users/aaaa/.julia/packages/CSV/1P1tQ/src/file.jl:576\n",
      "┌ Warning: thread = 1 warning: only found 1 / 3 columns around data row: 71. Filling remaining columns with `missing`\n",
      "└ @ CSV /Users/aaaa/.julia/packages/CSV/1P1tQ/src/file.jl:576\n",
      "┌ Warning: thread = 1 warning: only found 1 / 3 columns around data row: 72. Filling remaining columns with `missing`\n",
      "└ @ CSV /Users/aaaa/.julia/packages/CSV/1P1tQ/src/file.jl:576\n",
      "┌ Warning: thread = 1 warning: only found 1 / 3 columns around data row: 73. Filling remaining columns with `missing`\n",
      "└ @ CSV /Users/aaaa/.julia/packages/CSV/1P1tQ/src/file.jl:576\n",
      "┌ Warning: thread = 1 warning: only found 1 / 3 columns around data row: 74. Filling remaining columns with `missing`\n",
      "└ @ CSV /Users/aaaa/.julia/packages/CSV/1P1tQ/src/file.jl:576\n",
      "┌ Warning: thread = 1 warning: only found 1 / 3 columns around data row: 75. Filling remaining columns with `missing`\n",
      "└ @ CSV /Users/aaaa/.julia/packages/CSV/1P1tQ/src/file.jl:576\n",
      "┌ Warning: thread = 1 warning: only found 1 / 3 columns around data row: 76. Filling remaining columns with `missing`\n",
      "└ @ CSV /Users/aaaa/.julia/packages/CSV/1P1tQ/src/file.jl:576\n",
      "┌ Warning: thread = 1 warning: only found 1 / 3 columns around data row: 77. Filling remaining columns with `missing`\n",
      "└ @ CSV /Users/aaaa/.julia/packages/CSV/1P1tQ/src/file.jl:576\n",
      "┌ Warning: thread = 1 warning: only found 1 / 3 columns around data row: 78. Filling remaining columns with `missing`\n",
      "└ @ CSV /Users/aaaa/.julia/packages/CSV/1P1tQ/src/file.jl:576\n",
      "┌ Warning: thread = 1 warning: only found 1 / 3 columns around data row: 79. Filling remaining columns with `missing`\n",
      "└ @ CSV /Users/aaaa/.julia/packages/CSV/1P1tQ/src/file.jl:576\n",
      "┌ Warning: thread = 1 warning: only found 1 / 3 columns around data row: 80. Filling remaining columns with `missing`\n",
      "└ @ CSV /Users/aaaa/.julia/packages/CSV/1P1tQ/src/file.jl:576\n",
      "┌ Warning: thread = 1 warning: only found 1 / 3 columns around data row: 81. Filling remaining columns with `missing`\n",
      "└ @ CSV /Users/aaaa/.julia/packages/CSV/1P1tQ/src/file.jl:576\n",
      "┌ Warning: thread = 1 warning: only found 1 / 3 columns around data row: 82. Filling remaining columns with `missing`\n",
      "└ @ CSV /Users/aaaa/.julia/packages/CSV/1P1tQ/src/file.jl:576\n",
      "┌ Warning: thread = 1 warning: only found 1 / 3 columns around data row: 83. Filling remaining columns with `missing`\n",
      "└ @ CSV /Users/aaaa/.julia/packages/CSV/1P1tQ/src/file.jl:576\n",
      "┌ Warning: thread = 1 warning: only found 1 / 3 columns around data row: 84. Filling remaining columns with `missing`\n",
      "└ @ CSV /Users/aaaa/.julia/packages/CSV/1P1tQ/src/file.jl:576\n",
      "┌ Warning: thread = 1 warning: only found 1 / 3 columns around data row: 85. Filling remaining columns with `missing`\n",
      "└ @ CSV /Users/aaaa/.julia/packages/CSV/1P1tQ/src/file.jl:576\n",
      "┌ Warning: thread = 1 warning: only found 1 / 3 columns around data row: 86. Filling remaining columns with `missing`\n",
      "└ @ CSV /Users/aaaa/.julia/packages/CSV/1P1tQ/src/file.jl:576\n",
      "┌ Warning: thread = 1 warning: only found 1 / 3 columns around data row: 87. Filling remaining columns with `missing`\n",
      "└ @ CSV /Users/aaaa/.julia/packages/CSV/1P1tQ/src/file.jl:576\n",
      "┌ Warning: thread = 1 warning: only found 1 / 3 columns around data row: 88. Filling remaining columns with `missing`\n",
      "└ @ CSV /Users/aaaa/.julia/packages/CSV/1P1tQ/src/file.jl:576\n",
      "┌ Warning: thread = 1 warning: only found 1 / 3 columns around data row: 89. Filling remaining columns with `missing`\n",
      "└ @ CSV /Users/aaaa/.julia/packages/CSV/1P1tQ/src/file.jl:576\n",
      "┌ Warning: thread = 1 warning: only found 1 / 3 columns around data row: 90. Filling remaining columns with `missing`\n",
      "└ @ CSV /Users/aaaa/.julia/packages/CSV/1P1tQ/src/file.jl:576\n",
      "┌ Warning: thread = 1 warning: only found 1 / 3 columns around data row: 91. Filling remaining columns with `missing`\n",
      "└ @ CSV /Users/aaaa/.julia/packages/CSV/1P1tQ/src/file.jl:576\n",
      "┌ Warning: thread = 1 warning: only found 1 / 3 columns around data row: 92. Filling remaining columns with `missing`\n",
      "└ @ CSV /Users/aaaa/.julia/packages/CSV/1P1tQ/src/file.jl:576\n",
      "┌ Warning: thread = 1 warning: only found 1 / 3 columns around data row: 93. Filling remaining columns with `missing`\n",
      "└ @ CSV /Users/aaaa/.julia/packages/CSV/1P1tQ/src/file.jl:576\n",
      "┌ Warning: thread = 1 warning: only found 1 / 3 columns around data row: 94. Filling remaining columns with `missing`\n",
      "└ @ CSV /Users/aaaa/.julia/packages/CSV/1P1tQ/src/file.jl:576\n",
      "┌ Warning: thread = 1 warning: only found 1 / 3 columns around data row: 95. Filling remaining columns with `missing`\n",
      "└ @ CSV /Users/aaaa/.julia/packages/CSV/1P1tQ/src/file.jl:576\n",
      "┌ Warning: thread = 1 warning: only found 1 / 3 columns around data row: 96. Filling remaining columns with `missing`\n",
      "└ @ CSV /Users/aaaa/.julia/packages/CSV/1P1tQ/src/file.jl:576\n",
      "┌ Warning: thread = 1 warning: only found 1 / 3 columns around data row: 97. Filling remaining columns with `missing`\n",
      "└ @ CSV /Users/aaaa/.julia/packages/CSV/1P1tQ/src/file.jl:576\n",
      "┌ Warning: thread = 1 warning: only found 1 / 3 columns around data row: 98. Filling remaining columns with `missing`\n",
      "└ @ CSV /Users/aaaa/.julia/packages/CSV/1P1tQ/src/file.jl:576\n",
      "┌ Warning: thread = 1 warning: only found 1 / 3 columns around data row: 99. Filling remaining columns with `missing`\n",
      "└ @ CSV /Users/aaaa/.julia/packages/CSV/1P1tQ/src/file.jl:576\n",
      "┌ Warning: thread = 1 warning: only found 1 / 3 columns around data row: 100. Filling remaining columns with `missing`\n",
      "└ @ CSV /Users/aaaa/.julia/packages/CSV/1P1tQ/src/file.jl:576\n",
      "┌ Warning: thread = 1 warning: only found 1 / 3 columns around data row: 101. Filling remaining columns with `missing`\n",
      "└ @ CSV /Users/aaaa/.julia/packages/CSV/1P1tQ/src/file.jl:576\n",
      "┌ Warning: thread = 1: too many warnings, silencing any further warnings\n",
      "└ @ CSV /Users/aaaa/.julia/packages/CSV/1P1tQ/src/file.jl:581\n"
     ]
    },
    {
     "data": {
      "text/html": [
       "<div class=\"data-frame\"><p>370 rows × 3 columns (omitted printing of 2 columns)</p><table class=\"data-frame\"><thead><tr><th></th><th>�_�E�����[�h���������F2022/12/15 16</th></tr><tr><th></th><th title=\"String\">String</th></tr></thead><tbody><tr><th>1</th><td>,\\x93\\x8c\\x8b\\x9e,\\x93\\x8c\\x8b\\x9e,\\x93\\x8c\\x8b\\x9e,\\x93\\x8c\\x8b\\x9e,\\x93\\x8c\\x8b\\x9e,\\x93\\x8c\\x8b\\x9e,\\x93\\x8c\\x8b\\x9e,\\x93\\x8c\\x8b\\x9e,\\x93\\x8c\\x8b\\x9e,\\x93\\x8c\\x8b\\x9e,\\x93\\x8c\\x8b\\x9e,\\x93\\x8c\\x8b\\x9e,\\x93\\x8c\\x8b\\x9e,\\x93\\x8c\\x8b\\x9e,\\x93\\x8c\\x8b\\x9e,\\x93\\x8c\\x8b\\x9e</td></tr><tr><th>2</th><td>\\x94N\\x8c\\x8e\\x93\\xfa,\\x95\\xbd\\x8bϋC\\x89\\xb7(\\x81\\x8e),\\x95\\xbd\\x8bϋC\\x89\\xb7(\\x81\\x8e),\\x95\\xbd\\x8bϋC\\x89\\xb7(\\x81\\x8e),\\x8dō\\x82\\x8bC\\x89\\xb7(\\x81\\x8e),\\x8dō\\x82\\x8bC\\x89\\xb7(\\x81\\x8e),\\x8dō\\x82\\x8bC\\x89\\xb7(\\x81\\x8e),\\x8dŒ\\xe1\\x8bC\\x89\\xb7(\\x81\\x8e),\\x8dŒ\\xe1\\x8bC\\x89\\xb7(\\x81\\x8e),\\x8dŒ\\xe1\\x8bC\\x89\\xb7(\\x81\\x8e),\\x8d\\x87\\x8cv\\x91S\\x93V\\x93\\xfa\\x8e˗\\xca(MJ/\\x87u),\\x8d\\x87\\x8cv\\x91S\\x93V\\x93\\xfa\\x8e˗\\xca(MJ/\\x87u),\\x8d\\x87\\x8cv\\x91S\\x93V\\x93\\xfa\\x8e˗\\xca(MJ/\\x87u),\\x93\\xfa\\x8fƎ\\x9e\\x8a\\xd4(\\x8e\\x9e\\x8a\\xd4),\\x93\\xfa\\x8fƎ\\x9e\\x8a\\xd4(\\x8e\\x9e\\x8a\\xd4),\\x93\\xfa\\x8fƎ\\x9e\\x8a\\xd4(\\x8e\\x9e\\x8a\\xd4),\\x93\\xfa\\x8fƎ\\x9e\\x8a\\xd4(\\x8e\\x9e\\x8a\\xd4)</td></tr><tr><th>3</th><td>,,,,,,,,,,,,,,,,</td></tr><tr><th>4</th><td>,,\\x95i\\x8e\\xbf\\x8f\\xee\\x95\\xf1,\\x8bώ\\xbf\\x94ԍ\\x86,,\\x95i\\x8e\\xbf\\x8f\\xee\\x95\\xf1,\\x8bώ\\xbf\\x94ԍ\\x86,,\\x95i\\x8e\\xbf\\x8f\\xee\\x95\\xf1,\\x8bώ\\xbf\\x94ԍ\\x86,,\\x95i\\x8e\\xbf\\x8f\\xee\\x95\\xf1,\\x8bώ\\xbf\\x94ԍ\\x86,,\\x8c\\xbb\\x8fۂȂ\\xb5\\x8f\\xee\\x95\\xf1,\\x95i\\x8e\\xbf\\x8f\\xee\\x95\\xf1,\\x8bώ\\xbf\\x94ԍ\\x86</td></tr><tr><th>5</th><td>2021/1/1,4.4,8,1,10.5,8,1,-1.3,8,1,11.72,8,1,8.7,0,8,1</td></tr><tr><th>6</th><td>2021/1/2,4.8,8,1,10.8,8,1,0.1,8,1,11.47,8,1,8.8,0,8,1</td></tr><tr><th>7</th><td>2021/1/3,3.7,8,1,8.4,8,1,-0.4,8,1,10.63,8,1,8.8,0,8,1</td></tr><tr><th>8</th><td>2021/1/4,5.8,8,1,11.4,8,1,1.3,8,1,10.27,8,1,7.7,0,8,1</td></tr><tr><th>9</th><td>2021/1/5,6.0,8,1,10.0,8,1,2.5,8,1,5.58,8,1,1.0,0,8,1</td></tr><tr><th>10</th><td>2021/1/6,5.3,8,1,6.8,8,1,3.9,8,1,4.92,8,1,0.4,0,8,1</td></tr><tr><th>11</th><td>2021/1/7,6.3,8,1,12.7,8,1,2.0,8,1,10.36,8,1,7.4,0,8,1</td></tr><tr><th>12</th><td>2021/1/8,2.4,8,1,6.5,8,1,-1.5,8,1,8.79,8,1,5.4,0,8,1</td></tr><tr><th>13</th><td>2021/1/9,2.9,8,1,8.4,8,1,-1.5,8,1,12.53,8,1,8.5,0,8,1</td></tr><tr><th>14</th><td>2021/1/10,2.6,8,1,8.1,8,1,-2.4,8,1,12.39,8,1,8.9,0,8,1</td></tr><tr><th>15</th><td>2021/1/11,2.3,8,1,6.5,8,1,-1.3,8,1,6.57,8,1,0.8,0,8,1</td></tr><tr><th>16</th><td>2021/1/12,3.4,8,1,5.7,8,1,1.2,8,1,3.41,8,1,0.0,0,8,1</td></tr><tr><th>17</th><td>2021/1/13,5.8,8,1,12.5,8,1,-0.5,8,1,12.20,8,1,9.1,0,8,1</td></tr><tr><th>18</th><td>2021/1/14,7.9,8,1,14.5,8,1,0.9,8,1,11.93,8,1,9.0,0,8,1</td></tr><tr><th>19</th><td>2021/1/15,6.6,8,1,7.6,8,1,4.9,8,1,2.77,8,1,0.0,0,8,1</td></tr><tr><th>20</th><td>2021/1/16,10.0,8,1,18.7,8,1,4.3,8,1,11.40,8,1,8.8,0,8,1</td></tr><tr><th>21</th><td>2021/1/17,6.1,8,1,8.0,8,1,4.1,8,1,5.45,8,1,0.2,0,8,1</td></tr><tr><th>22</th><td>2021/1/18,4.3,8,1,8.6,8,1,1.0,8,1,8.98,8,1,5.4,0,8,1</td></tr><tr><th>23</th><td>2021/1/19,4.4,8,1,9.5,8,1,1.0,8,1,12.94,8,1,9.2,0,8,1</td></tr><tr><th>24</th><td>2021/1/20,3.9,8,1,9.5,8,1,0.2,8,1,13.23,8,1,9.2,0,8,1</td></tr><tr><th>25</th><td>2021/1/21,4.8,8,1,10.7,8,1,-0.3,8,1,12.25,8,1,9.1,0,8,1</td></tr><tr><th>26</th><td>2021/1/22,8.7,8,1,16.0,8,1,1.2,8,1,11.94,8,1,7.7,0,8,1</td></tr><tr><th>27</th><td>2021/1/23,6.4,8,1,10.2,8,1,2.7,8,1,1.34,8,1,0.0,0,8,1</td></tr><tr><th>28</th><td>2021/1/24,4.3,8,1,6.5,8,1,2.3,8,1,2.67,8,1,0.0,0,8,1</td></tr><tr><th>29</th><td>2021/1/25,7.6,8,1,13.2,8,1,3.8,8,1,12.79,8,1,8.8,0,8,1</td></tr><tr><th>30</th><td>2021/1/26,7.5,8,1,11.2,8,1,2.7,8,1,7.37,8,1,2.2,0,8,1</td></tr><tr><th>&vellip;</th><td>&vellip;</td></tr></tbody></table></div>"
      ],
      "text/latex": [
       "\\begin{tabular}{r|cc}\n",
       "\t& �\\_�E�����[�h���������F2022/12/15 16 & \\\\\n",
       "\t\\hline\n",
       "\t& String & \\\\\n",
       "\t\\hline\n",
       "\t1 & ,\\textbackslash{}x93\\textbackslash{}x8c\\textbackslash{}x8b\\textbackslash{}x9e,\\textbackslash{}x93\\textbackslash{}x8c\\textbackslash{}x8b\\textbackslash{}x9e,\\textbackslash{}x93\\textbackslash{}x8c\\textbackslash{}x8b\\textbackslash{}x9e,\\textbackslash{}x93\\textbackslash{}x8c\\textbackslash{}x8b\\textbackslash{}x9e,\\textbackslash{}x93\\textbackslash{}x8c\\textbackslash{}x8b\\textbackslash{}x9e,\\textbackslash{}x93\\textbackslash{}x8c\\textbackslash{}x8b\\textbackslash{}x9e,\\textbackslash{}x93\\textbackslash{}x8c\\textbackslash{}x8b\\textbackslash{}x9e,\\textbackslash{}x93\\textbackslash{}x8c\\textbackslash{}x8b\\textbackslash{}x9e,\\textbackslash{}x93\\textbackslash{}x8c\\textbackslash{}x8b\\textbackslash{}x9e,\\textbackslash{}x93\\textbackslash{}x8c\\textbackslash{}x8b\\textbackslash{}x9e,\\textbackslash{}x93\\textbackslash{}x8c\\textbackslash{}x8b\\textbackslash{}x9e,\\textbackslash{}x93\\textbackslash{}x8c\\textbackslash{}x8b\\textbackslash{}x9e,\\textbackslash{}x93\\textbackslash{}x8c\\textbackslash{}x8b\\textbackslash{}x9e,\\textbackslash{}x93\\textbackslash{}x8c\\textbackslash{}x8b\\textbackslash{}x9e,\\textbackslash{}x93\\textbackslash{}x8c\\textbackslash{}x8b\\textbackslash{}x9e,\\textbackslash{}x93\\textbackslash{}x8c\\textbackslash{}x8b\\textbackslash{}x9e & $\\dots$ \\\\\n",
       "\t2 & \\textbackslash{}x94N\\textbackslash{}x8c\\textbackslash{}x8e\\textbackslash{}x93\\textbackslash{}xfa,\\textbackslash{}x95\\textbackslash{}xbd\\textbackslash{}x8bϋC\\textbackslash{}x89\\textbackslash{}xb7(\\textbackslash{}x81\\textbackslash{}x8e),\\textbackslash{}x95\\textbackslash{}xbd\\textbackslash{}x8bϋC\\textbackslash{}x89\\textbackslash{}xb7(\\textbackslash{}x81\\textbackslash{}x8e),\\textbackslash{}x95\\textbackslash{}xbd\\textbackslash{}x8bϋC\\textbackslash{}x89\\textbackslash{}xb7(\\textbackslash{}x81\\textbackslash{}x8e),\\textbackslash{}x8dō\\textbackslash{}x82\\textbackslash{}x8bC\\textbackslash{}x89\\textbackslash{}xb7(\\textbackslash{}x81\\textbackslash{}x8e),\\textbackslash{}x8dō\\textbackslash{}x82\\textbackslash{}x8bC\\textbackslash{}x89\\textbackslash{}xb7(\\textbackslash{}x81\\textbackslash{}x8e),\\textbackslash{}x8dō\\textbackslash{}x82\\textbackslash{}x8bC\\textbackslash{}x89\\textbackslash{}xb7(\\textbackslash{}x81\\textbackslash{}x8e),\\textbackslash{}x8dŒ\\textbackslash{}xe1\\textbackslash{}x8bC\\textbackslash{}x89\\textbackslash{}xb7(\\textbackslash{}x81\\textbackslash{}x8e),\\textbackslash{}x8dŒ\\textbackslash{}xe1\\textbackslash{}x8bC\\textbackslash{}x89\\textbackslash{}xb7(\\textbackslash{}x81\\textbackslash{}x8e),\\textbackslash{}x8dŒ\\textbackslash{}xe1\\textbackslash{}x8bC\\textbackslash{}x89\\textbackslash{}xb7(\\textbackslash{}x81\\textbackslash{}x8e),\\textbackslash{}x8d\\textbackslash{}x87\\textbackslash{}x8cv\\textbackslash{}x91S\\textbackslash{}x93V\\textbackslash{}x93\\textbackslash{}xfa\\textbackslash{}x8e˗\\textbackslash{}xca(MJ/\\textbackslash{}x87u),\\textbackslash{}x8d\\textbackslash{}x87\\textbackslash{}x8cv\\textbackslash{}x91S\\textbackslash{}x93V\\textbackslash{}x93\\textbackslash{}xfa\\textbackslash{}x8e˗\\textbackslash{}xca(MJ/\\textbackslash{}x87u),\\textbackslash{}x8d\\textbackslash{}x87\\textbackslash{}x8cv\\textbackslash{}x91S\\textbackslash{}x93V\\textbackslash{}x93\\textbackslash{}xfa\\textbackslash{}x8e˗\\textbackslash{}xca(MJ/\\textbackslash{}x87u),\\textbackslash{}x93\\textbackslash{}xfa\\textbackslash{}x8fƎ\\textbackslash{}x9e\\textbackslash{}x8a\\textbackslash{}xd4(\\textbackslash{}x8e\\textbackslash{}x9e\\textbackslash{}x8a\\textbackslash{}xd4),\\textbackslash{}x93\\textbackslash{}xfa\\textbackslash{}x8fƎ\\textbackslash{}x9e\\textbackslash{}x8a\\textbackslash{}xd4(\\textbackslash{}x8e\\textbackslash{}x9e\\textbackslash{}x8a\\textbackslash{}xd4),\\textbackslash{}x93\\textbackslash{}xfa\\textbackslash{}x8fƎ\\textbackslash{}x9e\\textbackslash{}x8a\\textbackslash{}xd4(\\textbackslash{}x8e\\textbackslash{}x9e\\textbackslash{}x8a\\textbackslash{}xd4),\\textbackslash{}x93\\textbackslash{}xfa\\textbackslash{}x8fƎ\\textbackslash{}x9e\\textbackslash{}x8a\\textbackslash{}xd4(\\textbackslash{}x8e\\textbackslash{}x9e\\textbackslash{}x8a\\textbackslash{}xd4) & $\\dots$ \\\\\n",
       "\t3 & ,,,,,,,,,,,,,,,, & $\\dots$ \\\\\n",
       "\t4 & ,,\\textbackslash{}x95i\\textbackslash{}x8e\\textbackslash{}xbf\\textbackslash{}x8f\\textbackslash{}xee\\textbackslash{}x95\\textbackslash{}xf1,\\textbackslash{}x8bώ\\textbackslash{}xbf\\textbackslash{}x94ԍ\\textbackslash{}x86,,\\textbackslash{}x95i\\textbackslash{}x8e\\textbackslash{}xbf\\textbackslash{}x8f\\textbackslash{}xee\\textbackslash{}x95\\textbackslash{}xf1,\\textbackslash{}x8bώ\\textbackslash{}xbf\\textbackslash{}x94ԍ\\textbackslash{}x86,,\\textbackslash{}x95i\\textbackslash{}x8e\\textbackslash{}xbf\\textbackslash{}x8f\\textbackslash{}xee\\textbackslash{}x95\\textbackslash{}xf1,\\textbackslash{}x8bώ\\textbackslash{}xbf\\textbackslash{}x94ԍ\\textbackslash{}x86,,\\textbackslash{}x95i\\textbackslash{}x8e\\textbackslash{}xbf\\textbackslash{}x8f\\textbackslash{}xee\\textbackslash{}x95\\textbackslash{}xf1,\\textbackslash{}x8bώ\\textbackslash{}xbf\\textbackslash{}x94ԍ\\textbackslash{}x86,,\\textbackslash{}x8c\\textbackslash{}xbb\\textbackslash{}x8fۂȂ\\textbackslash{}xb5\\textbackslash{}x8f\\textbackslash{}xee\\textbackslash{}x95\\textbackslash{}xf1,\\textbackslash{}x95i\\textbackslash{}x8e\\textbackslash{}xbf\\textbackslash{}x8f\\textbackslash{}xee\\textbackslash{}x95\\textbackslash{}xf1,\\textbackslash{}x8bώ\\textbackslash{}xbf\\textbackslash{}x94ԍ\\textbackslash{}x86 & $\\dots$ \\\\\n",
       "\t5 & 2021/1/1,4.4,8,1,10.5,8,1,-1.3,8,1,11.72,8,1,8.7,0,8,1 & $\\dots$ \\\\\n",
       "\t6 & 2021/1/2,4.8,8,1,10.8,8,1,0.1,8,1,11.47,8,1,8.8,0,8,1 & $\\dots$ \\\\\n",
       "\t7 & 2021/1/3,3.7,8,1,8.4,8,1,-0.4,8,1,10.63,8,1,8.8,0,8,1 & $\\dots$ \\\\\n",
       "\t8 & 2021/1/4,5.8,8,1,11.4,8,1,1.3,8,1,10.27,8,1,7.7,0,8,1 & $\\dots$ \\\\\n",
       "\t9 & 2021/1/5,6.0,8,1,10.0,8,1,2.5,8,1,5.58,8,1,1.0,0,8,1 & $\\dots$ \\\\\n",
       "\t10 & 2021/1/6,5.3,8,1,6.8,8,1,3.9,8,1,4.92,8,1,0.4,0,8,1 & $\\dots$ \\\\\n",
       "\t11 & 2021/1/7,6.3,8,1,12.7,8,1,2.0,8,1,10.36,8,1,7.4,0,8,1 & $\\dots$ \\\\\n",
       "\t12 & 2021/1/8,2.4,8,1,6.5,8,1,-1.5,8,1,8.79,8,1,5.4,0,8,1 & $\\dots$ \\\\\n",
       "\t13 & 2021/1/9,2.9,8,1,8.4,8,1,-1.5,8,1,12.53,8,1,8.5,0,8,1 & $\\dots$ \\\\\n",
       "\t14 & 2021/1/10,2.6,8,1,8.1,8,1,-2.4,8,1,12.39,8,1,8.9,0,8,1 & $\\dots$ \\\\\n",
       "\t15 & 2021/1/11,2.3,8,1,6.5,8,1,-1.3,8,1,6.57,8,1,0.8,0,8,1 & $\\dots$ \\\\\n",
       "\t16 & 2021/1/12,3.4,8,1,5.7,8,1,1.2,8,1,3.41,8,1,0.0,0,8,1 & $\\dots$ \\\\\n",
       "\t17 & 2021/1/13,5.8,8,1,12.5,8,1,-0.5,8,1,12.20,8,1,9.1,0,8,1 & $\\dots$ \\\\\n",
       "\t18 & 2021/1/14,7.9,8,1,14.5,8,1,0.9,8,1,11.93,8,1,9.0,0,8,1 & $\\dots$ \\\\\n",
       "\t19 & 2021/1/15,6.6,8,1,7.6,8,1,4.9,8,1,2.77,8,1,0.0,0,8,1 & $\\dots$ \\\\\n",
       "\t20 & 2021/1/16,10.0,8,1,18.7,8,1,4.3,8,1,11.40,8,1,8.8,0,8,1 & $\\dots$ \\\\\n",
       "\t21 & 2021/1/17,6.1,8,1,8.0,8,1,4.1,8,1,5.45,8,1,0.2,0,8,1 & $\\dots$ \\\\\n",
       "\t22 & 2021/1/18,4.3,8,1,8.6,8,1,1.0,8,1,8.98,8,1,5.4,0,8,1 & $\\dots$ \\\\\n",
       "\t23 & 2021/1/19,4.4,8,1,9.5,8,1,1.0,8,1,12.94,8,1,9.2,0,8,1 & $\\dots$ \\\\\n",
       "\t24 & 2021/1/20,3.9,8,1,9.5,8,1,0.2,8,1,13.23,8,1,9.2,0,8,1 & $\\dots$ \\\\\n",
       "\t25 & 2021/1/21,4.8,8,1,10.7,8,1,-0.3,8,1,12.25,8,1,9.1,0,8,1 & $\\dots$ \\\\\n",
       "\t26 & 2021/1/22,8.7,8,1,16.0,8,1,1.2,8,1,11.94,8,1,7.7,0,8,1 & $\\dots$ \\\\\n",
       "\t27 & 2021/1/23,6.4,8,1,10.2,8,1,2.7,8,1,1.34,8,1,0.0,0,8,1 & $\\dots$ \\\\\n",
       "\t28 & 2021/1/24,4.3,8,1,6.5,8,1,2.3,8,1,2.67,8,1,0.0,0,8,1 & $\\dots$ \\\\\n",
       "\t29 & 2021/1/25,7.6,8,1,13.2,8,1,3.8,8,1,12.79,8,1,8.8,0,8,1 & $\\dots$ \\\\\n",
       "\t30 & 2021/1/26,7.5,8,1,11.2,8,1,2.7,8,1,7.37,8,1,2.2,0,8,1 & $\\dots$ \\\\\n",
       "\t$\\dots$ & $\\dots$ &  \\\\\n",
       "\\end{tabular}\n"
      ],
      "text/plain": [
       "\u001b[1m370×3 DataFrame\u001b[0m\n",
       "\u001b[1m Row \u001b[0m│\u001b[1m \\x83_\\x83E\\x83\\x93\\x83\\x8d\\x81[\\x8… \u001b[0m\u001b[1m 30      \u001b[0m\u001b[1m 19      \u001b[0m\n",
       "\u001b[1m     \u001b[0m│\u001b[90m String                              \u001b[0m\u001b[90m Missing \u001b[0m\u001b[90m Missing \u001b[0m\n",
       "─────┼───────────────────────────────────────────────────────\n",
       "   1 │ ,\\x93\\x8c\\x8b\\x9e,\\x93\\x8c\\x8b\\x9e… \u001b[90m missing \u001b[0m\u001b[90m missing \u001b[0m\n",
       "   2 │ \\x94N\\x8c\\x8e\\x93\\xfa,\\x95\\xbd\\x8b… \u001b[90m missing \u001b[0m\u001b[90m missing \u001b[0m\n",
       "   3 │ ,,,,,,,,,,,,,,,,                    \u001b[90m missing \u001b[0m\u001b[90m missing \u001b[0m\n",
       "   4 │ ,,\\x95i\\x8e\\xbf\\x8f\\xee\\x95\\xf1,\\x… \u001b[90m missing \u001b[0m\u001b[90m missing \u001b[0m\n",
       "   5 │ 2021/1/1,4.4,8,1,10.5,8,1,-1.3,8,1… \u001b[90m missing \u001b[0m\u001b[90m missing \u001b[0m\n",
       "   6 │ 2021/1/2,4.8,8,1,10.8,8,1,0.1,8,1,… \u001b[90m missing \u001b[0m\u001b[90m missing \u001b[0m\n",
       "   7 │ 2021/1/3,3.7,8,1,8.4,8,1,-0.4,8,1,… \u001b[90m missing \u001b[0m\u001b[90m missing \u001b[0m\n",
       "   8 │ 2021/1/4,5.8,8,1,11.4,8,1,1.3,8,1,… \u001b[90m missing \u001b[0m\u001b[90m missing \u001b[0m\n",
       "   9 │ 2021/1/5,6.0,8,1,10.0,8,1,2.5,8,1,… \u001b[90m missing \u001b[0m\u001b[90m missing \u001b[0m\n",
       "  10 │ 2021/1/6,5.3,8,1,6.8,8,1,3.9,8,1,4… \u001b[90m missing \u001b[0m\u001b[90m missing \u001b[0m\n",
       "  11 │ 2021/1/7,6.3,8,1,12.7,8,1,2.0,8,1,… \u001b[90m missing \u001b[0m\u001b[90m missing \u001b[0m\n",
       "  ⋮  │                  ⋮                      ⋮        ⋮\n",
       " 361 │ 2021/12/23,8.3,8,1,13.2,8,1,5.0,8,… \u001b[90m missing \u001b[0m\u001b[90m missing \u001b[0m\n",
       " 362 │ 2021/12/24,8.0,8,1,13.2,8,1,3.6,8,… \u001b[90m missing \u001b[0m\u001b[90m missing \u001b[0m\n",
       " 363 │ 2021/12/25,8.3,8,1,14.1,8,1,4.7,8,… \u001b[90m missing \u001b[0m\u001b[90m missing \u001b[0m\n",
       " 364 │ 2021/12/26,3.5,8,1,7.6,8,1,-0.2,8,… \u001b[90m missing \u001b[0m\u001b[90m missing \u001b[0m\n",
       " 365 │ 2021/12/27,2.7,8,1,8.1,8,1,-2.2,8,… \u001b[90m missing \u001b[0m\u001b[90m missing \u001b[0m\n",
       " 366 │ 2021/12/28,3.8,8,1,9.5,8,1,-1.6,8,… \u001b[90m missing \u001b[0m\u001b[90m missing \u001b[0m\n",
       " 367 │ 2021/12/29,4.2,8,1,8.9,8,1,0.9,8,1… \u001b[90m missing \u001b[0m\u001b[90m missing \u001b[0m\n",
       " 368 │ 2021/12/30,6.5,8,1,14.5,8,1,0.6,8,… \u001b[90m missing \u001b[0m\u001b[90m missing \u001b[0m\n",
       " 369 │ 2021/12/31,3.2,8,1,6.0,8,1,0.1,8,1… \u001b[90m missing \u001b[0m\u001b[90m missing \u001b[0m\n",
       " 370 │ 2022/1/1,3.4,8,1,7.8,8,1,-1.0,8,1,… \u001b[90m missing \u001b[0m\u001b[90m missing \u001b[0m\n",
       "\u001b[36m                                             349 rows omitted\u001b[0m"
      ]
     },
     "execution_count": 13,
     "metadata": {},
     "output_type": "execute_result"
    }
   ],
   "source": [
    "data=CSV.read(\"w2021.csv\",DataFrame)"
   ]
  },
  {
   "cell_type": "code",
   "execution_count": null,
   "id": "c12ec575-46e5-49d0-9377-5840e19179c0",
   "metadata": {},
   "outputs": [],
   "source": []
  }
 ],
 "metadata": {
  "@webio": {
   "lastCommId": "215511ba-f483-4317-90aa-593c8545ed9f",
   "lastKernelId": "9c80d48d-004c-4154-8f86-c610f945c6ca"
  },
  "kernelspec": {
   "display_name": "Julia 1.7.3",
   "language": "julia",
   "name": "julia-1.7"
  },
  "language_info": {
   "file_extension": ".jl",
   "mimetype": "application/julia",
   "name": "julia",
   "version": "1.7.3"
  }
 },
 "nbformat": 4,
 "nbformat_minor": 5
}
